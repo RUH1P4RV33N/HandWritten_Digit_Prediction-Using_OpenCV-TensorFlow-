{
 "cells": [
  {
   "cell_type": "code",
   "execution_count": 8,
   "id": "e3d0faa5-69f7-4079-9cf3-f217a42b44fe",
   "metadata": {
    "scrolled": true
   },
   "outputs": [
    {
     "name": "stdout",
     "output_type": "stream",
     "text": [
      "Requirement already satisfied: pygame in c:\\users\\ruhip\\anaconda3\\lib\\site-packages (2.6.1)\n",
      "Requirement already satisfied: tensorflow in c:\\users\\ruhip\\anaconda3\\lib\\site-packages (2.19.0)\n",
      "Requirement already satisfied: absl-py>=1.0.0 in c:\\users\\ruhip\\anaconda3\\lib\\site-packages (from tensorflow) (2.2.1)\n",
      "Requirement already satisfied: astunparse>=1.6.0 in c:\\users\\ruhip\\anaconda3\\lib\\site-packages (from tensorflow) (1.6.3)\n",
      "Requirement already satisfied: flatbuffers>=24.3.25 in c:\\users\\ruhip\\anaconda3\\lib\\site-packages (from tensorflow) (25.2.10)\n",
      "Requirement already satisfied: gast!=0.5.0,!=0.5.1,!=0.5.2,>=0.2.1 in c:\\users\\ruhip\\anaconda3\\lib\\site-packages (from tensorflow) (0.6.0)\n",
      "Requirement already satisfied: google-pasta>=0.1.1 in c:\\users\\ruhip\\anaconda3\\lib\\site-packages (from tensorflow) (0.2.0)\n",
      "Requirement already satisfied: libclang>=13.0.0 in c:\\users\\ruhip\\anaconda3\\lib\\site-packages (from tensorflow) (18.1.1)\n",
      "Requirement already satisfied: opt-einsum>=2.3.2 in c:\\users\\ruhip\\anaconda3\\lib\\site-packages (from tensorflow) (3.4.0)\n",
      "Requirement already satisfied: packaging in c:\\users\\ruhip\\anaconda3\\lib\\site-packages (from tensorflow) (24.1)\n",
      "Requirement already satisfied: protobuf!=4.21.0,!=4.21.1,!=4.21.2,!=4.21.3,!=4.21.4,!=4.21.5,<6.0.0dev,>=3.20.3 in c:\\users\\ruhip\\anaconda3\\lib\\site-packages (from tensorflow) (4.25.3)\n",
      "Requirement already satisfied: requests<3,>=2.21.0 in c:\\users\\ruhip\\anaconda3\\lib\\site-packages (from tensorflow) (2.32.3)\n",
      "Requirement already satisfied: setuptools in c:\\users\\ruhip\\anaconda3\\lib\\site-packages (from tensorflow) (75.1.0)\n",
      "Requirement already satisfied: six>=1.12.0 in c:\\users\\ruhip\\anaconda3\\lib\\site-packages (from tensorflow) (1.16.0)\n",
      "Requirement already satisfied: termcolor>=1.1.0 in c:\\users\\ruhip\\anaconda3\\lib\\site-packages (from tensorflow) (2.5.0)\n",
      "Requirement already satisfied: typing-extensions>=3.6.6 in c:\\users\\ruhip\\anaconda3\\lib\\site-packages (from tensorflow) (4.11.0)\n",
      "Requirement already satisfied: wrapt>=1.11.0 in c:\\users\\ruhip\\anaconda3\\lib\\site-packages (from tensorflow) (1.14.1)\n",
      "Requirement already satisfied: grpcio<2.0,>=1.24.3 in c:\\users\\ruhip\\anaconda3\\lib\\site-packages (from tensorflow) (1.71.0)\n",
      "Requirement already satisfied: tensorboard~=2.19.0 in c:\\users\\ruhip\\anaconda3\\lib\\site-packages (from tensorflow) (2.19.0)\n",
      "Requirement already satisfied: keras>=3.5.0 in c:\\users\\ruhip\\anaconda3\\lib\\site-packages (from tensorflow) (3.9.1)\n",
      "Requirement already satisfied: numpy<2.2.0,>=1.26.0 in c:\\users\\ruhip\\anaconda3\\lib\\site-packages (from tensorflow) (1.26.4)\n",
      "Requirement already satisfied: h5py>=3.11.0 in c:\\users\\ruhip\\anaconda3\\lib\\site-packages (from tensorflow) (3.11.0)\n",
      "Requirement already satisfied: ml-dtypes<1.0.0,>=0.5.1 in c:\\users\\ruhip\\anaconda3\\lib\\site-packages (from tensorflow) (0.5.1)\n",
      "Requirement already satisfied: wheel<1.0,>=0.23.0 in c:\\users\\ruhip\\anaconda3\\lib\\site-packages (from astunparse>=1.6.0->tensorflow) (0.44.0)\n",
      "Requirement already satisfied: rich in c:\\users\\ruhip\\anaconda3\\lib\\site-packages (from keras>=3.5.0->tensorflow) (13.7.1)\n",
      "Requirement already satisfied: namex in c:\\users\\ruhip\\anaconda3\\lib\\site-packages (from keras>=3.5.0->tensorflow) (0.0.8)\n",
      "Requirement already satisfied: optree in c:\\users\\ruhip\\anaconda3\\lib\\site-packages (from keras>=3.5.0->tensorflow) (0.14.1)\n",
      "Requirement already satisfied: charset-normalizer<4,>=2 in c:\\users\\ruhip\\anaconda3\\lib\\site-packages (from requests<3,>=2.21.0->tensorflow) (3.3.2)\n",
      "Requirement already satisfied: idna<4,>=2.5 in c:\\users\\ruhip\\anaconda3\\lib\\site-packages (from requests<3,>=2.21.0->tensorflow) (3.7)\n",
      "Requirement already satisfied: urllib3<3,>=1.21.1 in c:\\users\\ruhip\\anaconda3\\lib\\site-packages (from requests<3,>=2.21.0->tensorflow) (2.2.3)\n",
      "Requirement already satisfied: certifi>=2017.4.17 in c:\\users\\ruhip\\anaconda3\\lib\\site-packages (from requests<3,>=2.21.0->tensorflow) (2024.8.30)\n",
      "Requirement already satisfied: markdown>=2.6.8 in c:\\users\\ruhip\\anaconda3\\lib\\site-packages (from tensorboard~=2.19.0->tensorflow) (3.4.1)\n",
      "Requirement already satisfied: tensorboard-data-server<0.8.0,>=0.7.0 in c:\\users\\ruhip\\anaconda3\\lib\\site-packages (from tensorboard~=2.19.0->tensorflow) (0.7.2)\n",
      "Requirement already satisfied: werkzeug>=1.0.1 in c:\\users\\ruhip\\anaconda3\\lib\\site-packages (from tensorboard~=2.19.0->tensorflow) (3.0.3)\n",
      "Requirement already satisfied: MarkupSafe>=2.1.1 in c:\\users\\ruhip\\anaconda3\\lib\\site-packages (from werkzeug>=1.0.1->tensorboard~=2.19.0->tensorflow) (2.1.3)\n",
      "Requirement already satisfied: markdown-it-py>=2.2.0 in c:\\users\\ruhip\\anaconda3\\lib\\site-packages (from rich->keras>=3.5.0->tensorflow) (2.2.0)\n",
      "Requirement already satisfied: pygments<3.0.0,>=2.13.0 in c:\\users\\ruhip\\anaconda3\\lib\\site-packages (from rich->keras>=3.5.0->tensorflow) (2.15.1)\n",
      "Requirement already satisfied: mdurl~=0.1 in c:\\users\\ruhip\\anaconda3\\lib\\site-packages (from markdown-it-py>=2.2.0->rich->keras>=3.5.0->tensorflow) (0.1.0)\n",
      "Collecting tokenizer\n",
      "  Downloading tokenizer-3.4.5-py3-none-any.whl.metadata (42 kB)\n",
      "Downloading tokenizer-3.4.5-py3-none-any.whl (112 kB)\n",
      "Installing collected packages: tokenizer\n",
      "Successfully installed tokenizer-3.4.5\n"
     ]
    }
   ],
   "source": [
    "!pip install pygame\n",
    "!pip install tensorflow\n",
    "!pip install tokenizer"
   ]
  },
  {
   "cell_type": "code",
   "execution_count": null,
   "id": "d96e4262-c4bb-4306-8369-120fb2907b49",
   "metadata": {},
   "outputs": [
    {
     "name": "stdout",
     "output_type": "stream",
     "text": [
      "pygame 2.6.1 (SDL 2.28.4, Python 3.12.7)\n",
      "Hello from the pygame community. https://www.pygame.org/contribute.html\n"
     ]
    }
   ],
   "source": [
    "#from my_tokenizer import Number\n",
    "import pygame,sys \n",
    "from pygame.locals import *\n",
    "import numpy as np\n",
    "from numpy import testing\n",
    "from numpy.lib.type_check import imag\n",
    "from pygame import image\n",
    "from keras.models import load_model\n",
    "from tensorflow.python.keras.backend import constant\n",
    "import cv2"
   ]
  },
  {
   "cell_type": "code",
   "execution_count": 6,
   "id": "c692293b-b465-4314-9a32-0d56d3c9a565",
   "metadata": {},
   "outputs": [],
   "source": [
    "pygame.init()\n",
    "pygame.font.init()"
   ]
  },
  {
   "cell_type": "code",
   "execution_count": 8,
   "id": "9ddd89f0-7ea9-4096-bda0-f3c83e2008d8",
   "metadata": {},
   "outputs": [
    {
     "name": "stderr",
     "output_type": "stream",
     "text": [
      "WARNING:absl:Compiled the loaded model, but the compiled metrics have yet to be built. `model.compile_metrics` will be empty until you train or evaluate the model.\n"
     ]
    }
   ],
   "source": [
    "WINDOWSIZEX=640\n",
    "WINDOWSIZEY=480\n",
    "\n",
    "BOUNDRYINC=5\n",
    "WHITE=(255,255,255)\n",
    "BLACK=(0,0,0)\n",
    "RED=(255,0,0)\n",
    "\n",
    "FONT = pygame.font.Font(None, 36)\n",
    "\n",
    "IMAGESAVE=False\n",
    "iswriting=False\n",
    "\n",
    "number_cordx=[]\n",
    "number_cordy=[]\n",
    "\n",
    "image_cnt=1\n",
    "PREDICT=True\n",
    "\n",
    "MODEL=load_model(\"best_model.h5\")"
   ]
  },
  {
   "cell_type": "code",
   "execution_count": 10,
   "id": "bd8f8c51-355c-43d5-ada1-b75f06254439",
   "metadata": {},
   "outputs": [],
   "source": [
    "LABEL={0:\"ZERO\",1:\"ONE\",2:\"TWO\",3:\"THREE\",4:\"FOUR\",5:\"FIVE\",6:\"SIX\",7:\"SEVEN\",8:\"EIGHT\",9:\"NINE\"}"
   ]
  },
  {
   "cell_type": "code",
   "execution_count": 2,
   "id": "6f243cfb-732a-4f9c-a644-e303c7d13899",
   "metadata": {},
   "outputs": [
    {
     "ename": "NameError",
     "evalue": "name 'pygame' is not defined",
     "output_type": "error",
     "traceback": [
      "\u001b[1;31m---------------------------------------------------------------------------\u001b[0m",
      "\u001b[1;31mNameError\u001b[0m                                 Traceback (most recent call last)",
      "Cell \u001b[1;32mIn[2], line 1\u001b[0m\n\u001b[1;32m----> 1\u001b[0m DISPLAYSURF \u001b[38;5;241m=\u001b[39m pygame\u001b[38;5;241m.\u001b[39mdisplay\u001b[38;5;241m.\u001b[39mset_mode((WINDOWSIZEX,WINDOWSIZEY))\n\u001b[0;32m      2\u001b[0m \u001b[38;5;66;03m#WHILE_INT=DISPLAYSURF.mp_rgb(WHITE)\u001b[39;00m\n\u001b[0;32m      3\u001b[0m pygame\u001b[38;5;241m.\u001b[39mdisplay\u001b[38;5;241m.\u001b[39mset_caption(\u001b[38;5;124m\"\u001b[39m\u001b[38;5;124mDIGIT BOARD\u001b[39m\u001b[38;5;124m\"\u001b[39m)\n",
      "\u001b[1;31mNameError\u001b[0m: name 'pygame' is not defined"
     ]
    }
   ],
   "source": [
    "DISPLAYSURF = pygame.display.set_mode((WINDOWSIZEX,WINDOWSIZEY))\n",
    "#WHILE_INT=DISPLAYSURF.mp_rgb(WHITE)\n",
    "pygame.display.set_caption(\"DIGIT BOARD\")\n",
    "\n",
    "while True:\n",
    "    for event in pygame.event.get():\n",
    "        if event.type==QUIT:\n",
    "            pygame.quit()\n",
    "            sys.exit()\n",
    "        if event.type==MOUSEMOTION and iswriting:\n",
    "            xcord, ycord=event.pos\n",
    "            pygame.draw.circle(DISPLAYSURF, WHITE, (xcord, ycord), 4, 0)\n",
    "            number_cordx.append(xcord)\n",
    "            number_cordy.append(ycord)\n",
    "        if event.type==MOUSEBUTTONDOWN:\n",
    "            iswriting=True\n",
    "        if event.type==MOUSEBUTTONUP:\n",
    "            iswriting=False\n",
    "            number_cordx=sorted(number_cordx)\n",
    "            number_cordy=sorted(number_cordy)\n",
    "            rect_min_x=max(number_cordx[0]-BOUNDRYINC,0)\n",
    "            rect_max_x=min(number_cordx[-1]+BOUNDRYINC,WINDOWSIZEX)\n",
    "            rect_min_Y=max(number_cordy[0]-BOUNDRYINC,0)\n",
    "            rect_max_Y=min(number_cordy[-1]+BOUNDRYINC,WINDOWSIZEY)\n",
    "\n",
    "            pixel_array=pygame.PixelArray(DISPLAYSURF)\n",
    "            img_arr=np.array(pixel_array)[rect_min_x:rect_max_x, rect_min_Y:rect_max_Y].T.astype(np.float32)\n",
    "            del pixel_array\n",
    "            number_cordx=[]\n",
    "            number_cordy=[]\n",
    "            \n",
    "            if IMAGESAVE:\n",
    "                cv2.imwrite(f\"image_{image_cnt}.png\", img_arr)\n",
    "                image_cnt+=1\n",
    "\n",
    "            if PREDICT:\n",
    "                image=cv2.resize(img_arr, (28, 28))\n",
    "                image=cv2.copyMakeBorder(image, 10, 10, 10, 10, cv2.BORDER_CONSTANT, value=0)\n",
    "                image=cv2.resize(image, (28, 28)) / 255\n",
    "                image=image.reshape(1, 28, 28, 1)\n",
    "\n",
    "                label=str(LABEL[np.argmax(MODEL.predict(image))])\n",
    "                textSurface=FONT.render(label, True, RED, WHITE)\n",
    "                textRecObj=textSurface.get_rect()\n",
    "                textRecObj.left,textRecObj.bottom=rect_min_x,rect_max_Y\n",
    "                DISPLAYSURF.blit(textSurface, textRecObj)\n",
    "\n",
    "        if event.type==KEYDOWN:\n",
    "            if event.unicode=='n':\n",
    "                DISPLAYSURF.fill(BLACK)\n",
    "\n",
    "    pygame.display.update()\n"
   ]
  },
  {
   "cell_type": "code",
   "execution_count": null,
   "id": "255ac9b5-ce26-48b3-83f9-cd25da7e74bb",
   "metadata": {},
   "outputs": [],
   "source": []
  }
 ],
 "metadata": {
  "kernelspec": {
   "display_name": "Python 3 (ipykernel)",
   "language": "python",
   "name": "python3"
  },
  "language_info": {
   "codemirror_mode": {
    "name": "ipython",
    "version": 3
   },
   "file_extension": ".py",
   "mimetype": "text/x-python",
   "name": "python",
   "nbconvert_exporter": "python",
   "pygments_lexer": "ipython3",
   "version": "3.12.7"
  }
 },
 "nbformat": 4,
 "nbformat_minor": 5
}
